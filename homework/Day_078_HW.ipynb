{
 "cells": [
  {
   "cell_type": "markdown",
   "metadata": {},
   "source": [
    "## Work\n",
    "1. 請嘗試將 preproc_x 替換成以每筆資料的 min/max 進行標準化至 -1 ~ 1 間，再進行訓練\n",
    "2. 請嘗試將 mlp 疊更深 (e.g 5~10 層)，進行訓練後觀察 learning curve 的走勢\n",
    "3. (optional) 請改用 GPU 進行訓練 (如果你有 GPU 的話)，比較使用 CPU 與 GPU 的訓練速度"
   ]
  },
  {
   "cell_type": "code",
   "execution_count": 1,
   "metadata": {},
   "outputs": [
    {
     "data": {
      "text/plain": [
       "'\\nYour code here (optional)\\n確認硬體資源\\n'"
      ]
     },
     "execution_count": 1,
     "metadata": {},
     "output_type": "execute_result"
    }
   ],
   "source": [
    "## \n",
    "\"\"\"\n",
    "Your code here (optional)\n",
    "確認硬體資源\n",
    "\"\"\""
   ]
  },
  {
   "cell_type": "code",
   "execution_count": 2,
   "metadata": {},
   "outputs": [
    {
     "name": "stderr",
     "output_type": "stream",
     "text": [
      "Using TensorFlow backend.\n"
     ]
    }
   ],
   "source": [
    "import os\n",
    "import keras\n",
    "\n",
    "# 請嘗試設定 GPU：os.environ\n",
    "os.environ[\"CUDA_VISIBLE_DEVICES\"] = \"0\""
   ]
  },
  {
   "cell_type": "code",
   "execution_count": 3,
   "metadata": {},
   "outputs": [],
   "source": [
    "train, test = keras.datasets.cifar10.load_data()"
   ]
  },
  {
   "cell_type": "code",
   "execution_count": 4,
   "metadata": {},
   "outputs": [],
   "source": [
    "## 資料前處理\n",
    "\"\"\"\n",
    "Your code here\n",
    "\"\"\"\n",
    "from sklearn.preprocessing import MinMaxScaler\n",
    "def preproc_x(x, flatten=True):\n",
    "    minmax = MinMaxScaler()\n",
    "    x = x.reshape(x.shape[0], 32*32*3)\n",
    "    x = minmax.fit_transform(x)\n",
    "    if flatten:\n",
    "        x = x.reshape((len(x), -1))\n",
    "    return x\n",
    "\n",
    "def preproc_y(y, num_classes=10):\n",
    "    if y.shape[-1] == 1:\n",
    "        y = keras.utils.to_categorical(y, num_classes)\n",
    "    return y   "
   ]
  },
  {
   "cell_type": "code",
   "execution_count": 5,
   "metadata": {},
   "outputs": [
    {
     "name": "stderr",
     "output_type": "stream",
     "text": [
      "C:\\Users\\xu3g4\\Anaconda3\\lib\\site-packages\\sklearn\\utils\\validation.py:595: DataConversionWarning: Data with input dtype uint8 was converted to float64 by MinMaxScaler.\n",
      "  warnings.warn(msg, DataConversionWarning)\n",
      "C:\\Users\\xu3g4\\Anaconda3\\lib\\site-packages\\sklearn\\utils\\validation.py:595: DataConversionWarning: Data with input dtype uint8 was converted to float64 by MinMaxScaler.\n",
      "  warnings.warn(msg, DataConversionWarning)\n"
     ]
    }
   ],
   "source": [
    "x_train, y_train = train\n",
    "x_test, y_test = test\n",
    "\n",
    "# Preproc the inputs\n",
    "x_train = preproc_x(x_train)\n",
    "x_test = preproc_x(x_test)\n",
    "\n",
    "# Preprc the outputs\n",
    "y_train = preproc_y(y_train)\n",
    "y_test = preproc_y(y_test)"
   ]
  },
  {
   "cell_type": "code",
   "execution_count": 6,
   "metadata": {},
   "outputs": [
    {
     "name": "stdout",
     "output_type": "stream",
     "text": [
      "_________________________________________________________________\n",
      "Layer (type)                 Output Shape              Param #   \n",
      "=================================================================\n",
      "input_1 (InputLayer)         (None, 3072)              0         \n",
      "_________________________________________________________________\n",
      "hidden_layer1 (Dense)        (None, 128)               393344    \n",
      "_________________________________________________________________\n",
      "hidden_layer2 (Dense)        (None, 128)               16512     \n",
      "_________________________________________________________________\n",
      "hidden_layer3 (Dense)        (None, 256)               33024     \n",
      "_________________________________________________________________\n",
      "hidden_layer4 (Dense)        (None, 256)               65792     \n",
      "_________________________________________________________________\n",
      "hidden_layer5 (Dense)        (None, 512)               131584    \n",
      "_________________________________________________________________\n",
      "hidden_layer6 (Dense)        (None, 512)               262656    \n",
      "_________________________________________________________________\n",
      "hidden_layer7 (Dense)        (None, 1024)              525312    \n",
      "_________________________________________________________________\n",
      "output (Dense)               (None, 10)                10250     \n",
      "=================================================================\n",
      "Total params: 1,438,474\n",
      "Trainable params: 1,438,474\n",
      "Non-trainable params: 0\n",
      "_________________________________________________________________\n"
     ]
    }
   ],
   "source": [
    "\"\"\"Code Here\n",
    "建立你的神經網路\n",
    "\"\"\"\n",
    "def build_mlp(input_shape, output_units=10, num_neurons=[128, 128, 256, 256, 512, 512, 1024]):\n",
    "    input_layer = keras.layers.Input(input_shape)\n",
    "    \n",
    "    for i, n_units in enumerate(num_neurons):\n",
    "        if i == 0:\n",
    "            x = keras.layers.Dense(units=n_units, activation=\"relu\", name=\"hidden_layer\"+str(i+1))(input_layer)\n",
    "        else:\n",
    "            x = keras.layers.Dense(units=n_units, activation=\"relu\", name=\"hidden_layer\"+str(i+1))(x)\n",
    "    \n",
    "    out = keras.layers.Dense(units=output_units, activation=\"softmax\", name=\"output\")(x)\n",
    "    \n",
    "    model = keras.models.Model(inputs=[input_layer], outputs=[out])\n",
    "    return model\n",
    "\n",
    "model = build_mlp(input_shape=x_train.shape[1:])\n",
    "model.summary()"
   ]
  },
  {
   "cell_type": "code",
   "execution_count": 7,
   "metadata": {},
   "outputs": [],
   "source": [
    "## 超參數設定\n",
    "LEARNING_RATE = 0.001\n",
    "EPOCHS = 100\n",
    "BATCH_SIZE = 256"
   ]
  },
  {
   "cell_type": "code",
   "execution_count": 8,
   "metadata": {},
   "outputs": [],
   "source": [
    "optimizer = keras.optimizers.Adam(lr=LEARNING_RATE)\n",
    "model.compile(loss=\"categorical_crossentropy\", metrics=[\"accuracy\"], optimizer=optimizer)"
   ]
  },
  {
   "cell_type": "code",
   "execution_count": 9,
   "metadata": {},
   "outputs": [
    {
     "name": "stdout",
     "output_type": "stream",
     "text": [
      "Train on 50000 samples, validate on 10000 samples\n",
      "Epoch 1/100\n",
      "50000/50000 [==============================] - 7s 146us/step - loss: 1.9252 - acc: 0.2892 - val_loss: 1.7710 - val_acc: 0.3604\n",
      "Epoch 2/100\n",
      "50000/50000 [==============================] - 5s 92us/step - loss: 1.7334 - acc: 0.3716 - val_loss: 1.7318 - val_acc: 0.3753\n",
      "Epoch 3/100\n",
      "50000/50000 [==============================] - 5s 93us/step - loss: 1.6491 - acc: 0.4057 - val_loss: 1.6156 - val_acc: 0.4239\n",
      "Epoch 4/100\n",
      "50000/50000 [==============================] - 5s 92us/step - loss: 1.5855 - acc: 0.4278 - val_loss: 1.5603 - val_acc: 0.4378\n",
      "Epoch 5/100\n",
      "50000/50000 [==============================] - 5s 92us/step - loss: 1.5360 - acc: 0.4461 - val_loss: 1.5338 - val_acc: 0.4588\n",
      "Epoch 6/100\n",
      "50000/50000 [==============================] - 5s 93us/step - loss: 1.4882 - acc: 0.4653 - val_loss: 1.4790 - val_acc: 0.4729\n",
      "Epoch 7/100\n",
      "50000/50000 [==============================] - 5s 92us/step - loss: 1.4633 - acc: 0.4751 - val_loss: 1.4986 - val_acc: 0.4683\n",
      "Epoch 8/100\n",
      "50000/50000 [==============================] - 5s 91us/step - loss: 1.4265 - acc: 0.4891 - val_loss: 1.4850 - val_acc: 0.4751\n",
      "Epoch 9/100\n",
      "50000/50000 [==============================] - 5s 93us/step - loss: 1.3956 - acc: 0.5004 - val_loss: 1.5100 - val_acc: 0.4639\n",
      "Epoch 10/100\n",
      "50000/50000 [==============================] - 5s 92us/step - loss: 1.3625 - acc: 0.5096 - val_loss: 1.4859 - val_acc: 0.4738\n",
      "Epoch 11/100\n",
      "50000/50000 [==============================] - 5s 93us/step - loss: 1.3383 - acc: 0.5186 - val_loss: 1.4600 - val_acc: 0.4882\n",
      "Epoch 12/100\n",
      "50000/50000 [==============================] - 5s 93us/step - loss: 1.3055 - acc: 0.5298 - val_loss: 1.4595 - val_acc: 0.4864\n",
      "Epoch 13/100\n",
      "50000/50000 [==============================] - 5s 93us/step - loss: 1.2874 - acc: 0.5358 - val_loss: 1.4477 - val_acc: 0.4978\n",
      "Epoch 14/100\n",
      "50000/50000 [==============================] - 5s 91us/step - loss: 1.2504 - acc: 0.5498 - val_loss: 1.4494 - val_acc: 0.4946\n",
      "Epoch 15/100\n",
      "50000/50000 [==============================] - 5s 92us/step - loss: 1.2238 - acc: 0.5553 - val_loss: 1.4331 - val_acc: 0.5086\n",
      "Epoch 16/100\n",
      "50000/50000 [==============================] - 5s 92us/step - loss: 1.1875 - acc: 0.5708 - val_loss: 1.4471 - val_acc: 0.5004\n",
      "Epoch 17/100\n",
      "50000/50000 [==============================] - 5s 93us/step - loss: 1.1561 - acc: 0.5802 - val_loss: 1.4722 - val_acc: 0.4998\n",
      "Epoch 18/100\n",
      "50000/50000 [==============================] - 5s 96us/step - loss: 1.1350 - acc: 0.5859 - val_loss: 1.5124 - val_acc: 0.4969\n",
      "Epoch 19/100\n",
      "50000/50000 [==============================] - 5s 96us/step - loss: 1.1013 - acc: 0.6004 - val_loss: 1.5268 - val_acc: 0.4901\n",
      "Epoch 20/100\n",
      "50000/50000 [==============================] - 5s 96us/step - loss: 1.0606 - acc: 0.6134 - val_loss: 1.5172 - val_acc: 0.4934\n",
      "Epoch 21/100\n",
      "50000/50000 [==============================] - 5s 96us/step - loss: 1.0328 - acc: 0.6201 - val_loss: 1.5233 - val_acc: 0.5016\n",
      "Epoch 22/100\n",
      "50000/50000 [==============================] - 5s 95us/step - loss: 0.9862 - acc: 0.6396 - val_loss: 1.5698 - val_acc: 0.4953\n",
      "Epoch 23/100\n",
      "50000/50000 [==============================] - 5s 94us/step - loss: 0.9580 - acc: 0.6484 - val_loss: 1.6161 - val_acc: 0.4924\n",
      "Epoch 24/100\n",
      "50000/50000 [==============================] - 5s 95us/step - loss: 0.9271 - acc: 0.6581 - val_loss: 1.6535 - val_acc: 0.4841\n",
      "Epoch 25/100\n",
      "50000/50000 [==============================] - 5s 96us/step - loss: 0.8720 - acc: 0.6803 - val_loss: 1.6618 - val_acc: 0.4961\n",
      "Epoch 26/100\n",
      "50000/50000 [==============================] - 5s 96us/step - loss: 0.8349 - acc: 0.6923 - val_loss: 1.7225 - val_acc: 0.4921\n",
      "Epoch 27/100\n",
      "50000/50000 [==============================] - 5s 96us/step - loss: 0.7849 - acc: 0.7098 - val_loss: 1.7623 - val_acc: 0.4901\n",
      "Epoch 28/100\n",
      "50000/50000 [==============================] - 5s 95us/step - loss: 0.7546 - acc: 0.7208 - val_loss: 1.8759 - val_acc: 0.4797\n",
      "Epoch 29/100\n",
      "50000/50000 [==============================] - 5s 96us/step - loss: 0.7165 - acc: 0.7337 - val_loss: 1.9375 - val_acc: 0.4860\n",
      "Epoch 30/100\n",
      "50000/50000 [==============================] - 5s 97us/step - loss: 0.6827 - acc: 0.7451 - val_loss: 1.9636 - val_acc: 0.4763\n",
      "Epoch 31/100\n",
      "50000/50000 [==============================] - 5s 93us/step - loss: 0.6318 - acc: 0.7628 - val_loss: 2.0402 - val_acc: 0.4867\n",
      "Epoch 32/100\n",
      "50000/50000 [==============================] - 5s 94us/step - loss: 0.6099 - acc: 0.7712 - val_loss: 2.1058 - val_acc: 0.4880\n",
      "Epoch 33/100\n",
      "50000/50000 [==============================] - 4s 89us/step - loss: 0.5709 - acc: 0.7873 - val_loss: 2.2330 - val_acc: 0.4805\n",
      "Epoch 34/100\n",
      "50000/50000 [==============================] - 5s 93us/step - loss: 0.5262 - acc: 0.8045 - val_loss: 2.3529 - val_acc: 0.4737\n",
      "Epoch 35/100\n",
      "50000/50000 [==============================] - 5s 96us/step - loss: 0.5159 - acc: 0.8074 - val_loss: 2.3972 - val_acc: 0.4775\n",
      "Epoch 36/100\n",
      "50000/50000 [==============================] - 5s 93us/step - loss: 0.4949 - acc: 0.8164 - val_loss: 2.4124 - val_acc: 0.4779\n",
      "Epoch 37/100\n",
      "50000/50000 [==============================] - 5s 91us/step - loss: 0.4368 - acc: 0.8373 - val_loss: 2.5384 - val_acc: 0.4777\n",
      "Epoch 38/100\n",
      "50000/50000 [==============================] - 5s 92us/step - loss: 0.4393 - acc: 0.8378 - val_loss: 2.6250 - val_acc: 0.4704\n",
      "Epoch 39/100\n",
      "50000/50000 [==============================] - 5s 91us/step - loss: 0.4063 - acc: 0.8524 - val_loss: 2.7165 - val_acc: 0.4784\n",
      "Epoch 40/100\n",
      "50000/50000 [==============================] - 5s 92us/step - loss: 0.3761 - acc: 0.8626 - val_loss: 2.8217 - val_acc: 0.4656\n",
      "Epoch 41/100\n",
      "50000/50000 [==============================] - 5s 91us/step - loss: 0.3794 - acc: 0.8598 - val_loss: 2.8907 - val_acc: 0.4693\n",
      "Epoch 42/100\n",
      "50000/50000 [==============================] - 5s 91us/step - loss: 0.3291 - acc: 0.8800 - val_loss: 2.9709 - val_acc: 0.4757\n",
      "Epoch 43/100\n",
      "50000/50000 [==============================] - 5s 92us/step - loss: 0.3392 - acc: 0.8761 - val_loss: 2.9561 - val_acc: 0.4708\n",
      "Epoch 44/100\n",
      "50000/50000 [==============================] - 5s 92us/step - loss: 0.3040 - acc: 0.8890 - val_loss: 2.9164 - val_acc: 0.4611\n",
      "Epoch 45/100\n",
      "50000/50000 [==============================] - 5s 92us/step - loss: 0.3068 - acc: 0.8903 - val_loss: 3.1380 - val_acc: 0.4711\n",
      "Epoch 46/100\n",
      "50000/50000 [==============================] - 5s 91us/step - loss: 0.3020 - acc: 0.8896 - val_loss: 3.0671 - val_acc: 0.4681\n",
      "Epoch 47/100\n",
      "50000/50000 [==============================] - 5s 91us/step - loss: 0.2546 - acc: 0.9071 - val_loss: 3.3930 - val_acc: 0.4675\n",
      "Epoch 48/100\n",
      "50000/50000 [==============================] - 5s 91us/step - loss: 0.2679 - acc: 0.9052 - val_loss: 3.0329 - val_acc: 0.4579\n",
      "Epoch 49/100\n",
      "50000/50000 [==============================] - 5s 91us/step - loss: 0.2719 - acc: 0.9043 - val_loss: 3.3808 - val_acc: 0.4693\n",
      "Epoch 50/100\n",
      "50000/50000 [==============================] - 5s 91us/step - loss: 0.2414 - acc: 0.9147 - val_loss: 3.2742 - val_acc: 0.4668\n",
      "Epoch 51/100\n",
      "50000/50000 [==============================] - 5s 91us/step - loss: 0.2675 - acc: 0.9053 - val_loss: 3.4298 - val_acc: 0.4547\n",
      "Epoch 52/100\n",
      "50000/50000 [==============================] - 5s 91us/step - loss: 0.2411 - acc: 0.9129 - val_loss: 3.4421 - val_acc: 0.4716\n",
      "Epoch 53/100\n",
      "50000/50000 [==============================] - 5s 91us/step - loss: 0.2120 - acc: 0.9249 - val_loss: 3.4779 - val_acc: 0.4613\n",
      "Epoch 54/100\n",
      "50000/50000 [==============================] - 5s 91us/step - loss: 0.2176 - acc: 0.9231 - val_loss: 3.5378 - val_acc: 0.4735\n",
      "Epoch 55/100\n",
      "50000/50000 [==============================] - 5s 91us/step - loss: 0.2758 - acc: 0.9041 - val_loss: 3.3453 - val_acc: 0.4666\n",
      "Epoch 56/100\n",
      "50000/50000 [==============================] - 5s 92us/step - loss: 0.1963 - acc: 0.9315 - val_loss: 3.6199 - val_acc: 0.4576\n",
      "Epoch 57/100\n",
      "50000/50000 [==============================] - 5s 91us/step - loss: 0.2025 - acc: 0.9308 - val_loss: 3.5229 - val_acc: 0.4746\n",
      "Epoch 58/100\n",
      "50000/50000 [==============================] - 5s 91us/step - loss: 0.2158 - acc: 0.9247 - val_loss: 3.4315 - val_acc: 0.4610\n",
      "Epoch 59/100\n"
     ]
    },
    {
     "name": "stdout",
     "output_type": "stream",
     "text": [
      "50000/50000 [==============================] - 5s 92us/step - loss: 0.2176 - acc: 0.9235 - val_loss: 3.5412 - val_acc: 0.4732\n",
      "Epoch 60/100\n",
      "50000/50000 [==============================] - 5s 92us/step - loss: 0.1533 - acc: 0.9467 - val_loss: 3.8351 - val_acc: 0.4721\n",
      "Epoch 61/100\n",
      "50000/50000 [==============================] - 5s 92us/step - loss: 0.2073 - acc: 0.9289 - val_loss: 3.5171 - val_acc: 0.4624\n",
      "Epoch 62/100\n",
      "50000/50000 [==============================] - 5s 93us/step - loss: 0.1959 - acc: 0.9322 - val_loss: 3.5516 - val_acc: 0.4594\n",
      "Epoch 63/100\n",
      "50000/50000 [==============================] - 5s 92us/step - loss: 0.1999 - acc: 0.9307 - val_loss: 3.6840 - val_acc: 0.4619\n",
      "Epoch 64/100\n",
      "50000/50000 [==============================] - 5s 93us/step - loss: 0.1935 - acc: 0.9354 - val_loss: 3.6183 - val_acc: 0.4661\n",
      "Epoch 65/100\n",
      "50000/50000 [==============================] - 5s 93us/step - loss: 0.1757 - acc: 0.9397 - val_loss: 3.8406 - val_acc: 0.4726\n",
      "Epoch 66/100\n",
      "50000/50000 [==============================] - 5s 92us/step - loss: 0.1954 - acc: 0.9327 - val_loss: 3.7789 - val_acc: 0.4741\n",
      "Epoch 67/100\n",
      "50000/50000 [==============================] - 4s 90us/step - loss: 0.1735 - acc: 0.9396 - val_loss: 3.8435 - val_acc: 0.4694\n",
      "Epoch 68/100\n",
      "50000/50000 [==============================] - 5s 92us/step - loss: 0.1683 - acc: 0.9425 - val_loss: 3.8580 - val_acc: 0.4748\n",
      "Epoch 69/100\n",
      "50000/50000 [==============================] - 5s 93us/step - loss: 0.1715 - acc: 0.9416 - val_loss: 3.7803 - val_acc: 0.4640\n",
      "Epoch 70/100\n",
      "50000/50000 [==============================] - 5s 106us/step - loss: 0.2011 - acc: 0.9312 - val_loss: 3.8889 - val_acc: 0.4624\n",
      "Epoch 71/100\n",
      "50000/50000 [==============================] - 10s 199us/step - loss: 0.1354 - acc: 0.9534 - val_loss: 3.9452 - val_acc: 0.4572\n",
      "Epoch 72/100\n",
      "50000/50000 [==============================] - 7s 133us/step - loss: 0.1725 - acc: 0.9414 - val_loss: 3.7307 - val_acc: 0.4632\n",
      "Epoch 73/100\n",
      "50000/50000 [==============================] - 6s 111us/step - loss: 0.1838 - acc: 0.9377 - val_loss: 3.6304 - val_acc: 0.4636\n",
      "Epoch 74/100\n",
      "50000/50000 [==============================] - 6s 111us/step - loss: 0.1480 - acc: 0.9503 - val_loss: 4.0050 - val_acc: 0.4643\n",
      "Epoch 75/100\n",
      "50000/50000 [==============================] - 5s 105us/step - loss: 0.1602 - acc: 0.9452 - val_loss: 3.9020 - val_acc: 0.4656\n",
      "Epoch 76/100\n",
      "50000/50000 [==============================] - 5s 104us/step - loss: 0.1951 - acc: 0.9349 - val_loss: 3.7538 - val_acc: 0.4759\n",
      "Epoch 77/100\n",
      "50000/50000 [==============================] - 6s 119us/step - loss: 0.1635 - acc: 0.9448 - val_loss: 3.9373 - val_acc: 0.4685\n",
      "Epoch 78/100\n",
      "50000/50000 [==============================] - 6s 114us/step - loss: 0.1390 - acc: 0.9525 - val_loss: 3.8887 - val_acc: 0.4698\n",
      "Epoch 79/100\n",
      "50000/50000 [==============================] - 6s 112us/step - loss: 0.1635 - acc: 0.9460 - val_loss: 3.8382 - val_acc: 0.4685\n",
      "Epoch 80/100\n",
      "50000/50000 [==============================] - 6s 111us/step - loss: 0.1510 - acc: 0.9493 - val_loss: 4.0015 - val_acc: 0.4612\n",
      "Epoch 81/100\n",
      "50000/50000 [==============================] - 5s 104us/step - loss: 0.1679 - acc: 0.9437 - val_loss: 3.9136 - val_acc: 0.4714\n",
      "Epoch 82/100\n",
      "50000/50000 [==============================] - 5s 106us/step - loss: 0.1535 - acc: 0.9495 - val_loss: 3.8435 - val_acc: 0.4594\n",
      "Epoch 83/100\n",
      "50000/50000 [==============================] - 5s 95us/step - loss: 0.1698 - acc: 0.9438 - val_loss: 3.9859 - val_acc: 0.4708\n",
      "Epoch 84/100\n",
      "50000/50000 [==============================] - 5s 100us/step - loss: 0.1869 - acc: 0.9387 - val_loss: 3.6118 - val_acc: 0.4600\n",
      "Epoch 85/100\n",
      "50000/50000 [==============================] - 5s 91us/step - loss: 0.1369 - acc: 0.9537 - val_loss: 4.0769 - val_acc: 0.4685\n",
      "Epoch 86/100\n",
      "50000/50000 [==============================] - 5s 91us/step - loss: 0.0998 - acc: 0.9671 - val_loss: 4.2194 - val_acc: 0.4674\n",
      "Epoch 87/100\n",
      "50000/50000 [==============================] - 5s 91us/step - loss: 0.1811 - acc: 0.9383 - val_loss: 4.0152 - val_acc: 0.4658\n",
      "Epoch 88/100\n",
      "50000/50000 [==============================] - 4s 90us/step - loss: 0.1451 - acc: 0.9512 - val_loss: 3.9079 - val_acc: 0.4576\n",
      "Epoch 89/100\n",
      "50000/50000 [==============================] - 5s 91us/step - loss: 0.1341 - acc: 0.9555 - val_loss: 4.0777 - val_acc: 0.4598\n",
      "Epoch 90/100\n",
      "50000/50000 [==============================] - 5s 91us/step - loss: 0.1851 - acc: 0.9389 - val_loss: 3.7949 - val_acc: 0.4618\n",
      "Epoch 91/100\n",
      "50000/50000 [==============================] - 4s 88us/step - loss: 0.1173 - acc: 0.9620 - val_loss: 4.2117 - val_acc: 0.4567\n",
      "Epoch 92/100\n",
      "50000/50000 [==============================] - 4s 88us/step - loss: 0.1570 - acc: 0.9481 - val_loss: 3.8661 - val_acc: 0.4677\n",
      "Epoch 93/100\n",
      "50000/50000 [==============================] - 4s 88us/step - loss: 0.1253 - acc: 0.9593 - val_loss: 4.1705 - val_acc: 0.4595\n",
      "Epoch 94/100\n",
      "50000/50000 [==============================] - 4s 86us/step - loss: 0.1730 - acc: 0.9430 - val_loss: 4.0741 - val_acc: 0.4661\n",
      "Epoch 95/100\n",
      "50000/50000 [==============================] - 4s 87us/step - loss: 0.1855 - acc: 0.9394 - val_loss: 4.0459 - val_acc: 0.4601\n",
      "Epoch 96/100\n",
      "50000/50000 [==============================] - 4s 87us/step - loss: 0.1210 - acc: 0.9604 - val_loss: 4.1831 - val_acc: 0.4601\n",
      "Epoch 97/100\n",
      "50000/50000 [==============================] - 4s 88us/step - loss: 0.1729 - acc: 0.9429 - val_loss: 3.8546 - val_acc: 0.4643\n",
      "Epoch 98/100\n",
      "50000/50000 [==============================] - 4s 86us/step - loss: 0.1500 - acc: 0.9500 - val_loss: 4.0713 - val_acc: 0.4650\n",
      "Epoch 99/100\n",
      "50000/50000 [==============================] - 4s 85us/step - loss: 0.1292 - acc: 0.9574 - val_loss: 4.1816 - val_acc: 0.4598\n",
      "Epoch 100/100\n",
      "50000/50000 [==============================] - 4s 86us/step - loss: 0.1795 - acc: 0.9425 - val_loss: 4.0073 - val_acc: 0.4738\n"
     ]
    },
    {
     "data": {
      "text/plain": [
       "<keras.callbacks.History at 0x22b54bd6c50>"
      ]
     },
     "execution_count": 9,
     "metadata": {},
     "output_type": "execute_result"
    }
   ],
   "source": [
    "model.fit(x_train, y_train, \n",
    "          epochs=EPOCHS, \n",
    "          batch_size=BATCH_SIZE, \n",
    "          validation_data=(x_test, y_test), \n",
    "          shuffle=True)"
   ]
  },
  {
   "cell_type": "code",
   "execution_count": 11,
   "metadata": {},
   "outputs": [
    {
     "data": {
      "image/png": "[encoded data removed]",
      "text/plain": [
       "<Figure size 432x288 with 1 Axes>"
      ]
     },
     "metadata": {
      "needs_background": "light"
     },
     "output_type": "display_data"
    },
    {
     "data": {
      "image/png": "[encoded data removed]",
      "text/plain": [
       "<Figure size 432x288 with 1 Axes>"
      ]
     },
     "metadata": {
      "needs_background": "light"
     },
     "output_type": "display_data"
    }
   ],
   "source": [
    "import matplotlib.pyplot as plt\n",
    "\n",
    "\n",
    "train_loss = model.history.history[\"loss\"]\n",
    "valid_loss = model.history.history[\"val_loss\"]\n",
    "\n",
    "train_acc = model.history.history[\"acc\"]\n",
    "valid_acc = model.history.history[\"val_acc\"]\n",
    "\n",
    "plt.plot(range(len(train_loss)), train_loss, label=\"train loss\")\n",
    "plt.plot(range(len(valid_loss)), valid_loss, label=\"valid loss\")\n",
    "plt.legend()\n",
    "plt.title(\"Loss\")\n",
    "plt.show()\n",
    "\n",
    "plt.plot(range(len(train_acc)), train_acc, label=\"train accuracy\")\n",
    "plt.plot(range(len(valid_acc)), valid_acc, label=\"valid accuracy\")\n",
    "plt.legend()\n",
    "plt.title(\"Accuracy\")\n",
    "plt.show()"
   ]
  },
  {
   "cell_type": "code",
   "execution_count": null,
   "metadata": {},
   "outputs": [],
   "source": []
  }
 ],
 "metadata": {
  "kernelspec": {
   "display_name": "Python 3",
   "language": "python",
   "name": "python3"
  },
  "language_info": {
   "codemirror_mode": {
    "name": "ipython",
    "version": 3
   },
   "file_extension": ".py",
   "mimetype": "text/x-python",
   "name": "python",
   "nbconvert_exporter": "python",
   "pygments_lexer": "ipython3",
   "version": "3.6.7"
  }
 },
 "nbformat": 4,
 "nbformat_minor": 2
}
