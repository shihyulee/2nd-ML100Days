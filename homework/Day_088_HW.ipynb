{
 "cells": [
  {
   "cell_type": "markdown",
   "metadata": {},
   "source": [
    "## Work\n",
    "1. 請嘗試寫一個 callback 用來記錄各類別在訓練過程中，對驗證集的 True Positive 與 True Negative"
   ]
  },
  {
   "cell_type": "code",
   "execution_count": 1,
   "metadata": {},
   "outputs": [
    {
     "name": "stderr",
     "output_type": "stream",
     "text": [
      "Using TensorFlow backend.\n"
     ]
    }
   ],
   "source": [
    "import os\n",
    "import keras\n",
    "\n",
    "# Disable GPU\n",
    "os.environ[\"CUDA_VISIBLE_DEVICES\"] = \"0\""
   ]
  },
  {
   "cell_type": "code",
   "execution_count": 2,
   "metadata": {},
   "outputs": [],
   "source": [
    "train, test = keras.datasets.cifar10.load_data()"
   ]
  },
  {
   "cell_type": "code",
   "execution_count": 3,
   "metadata": {},
   "outputs": [],
   "source": [
    "## 資料前處理\n",
    "def preproc_x(x, flatten=True):\n",
    "    x = x / 255.\n",
    "    if flatten:\n",
    "        x = x.reshape((len(x), -1))\n",
    "    return x\n",
    "\n",
    "def preproc_y(y, num_classes=10):\n",
    "    if y.shape[-1] == 1:\n",
    "        y = keras.utils.to_categorical(y, num_classes)\n",
    "    return y    "
   ]
  },
  {
   "cell_type": "code",
   "execution_count": 4,
   "metadata": {},
   "outputs": [],
   "source": [
    "x_train, y_train = train\n",
    "x_test, y_test = test\n",
    "\n",
    "# Preproc the inputs\n",
    "x_train = preproc_x(x_train)\n",
    "x_test = preproc_x(x_test)\n",
    "\n",
    "# Preprc the outputs\n",
    "y_train = preproc_y(y_train)\n",
    "y_test = preproc_y(y_test)"
   ]
  },
  {
   "cell_type": "code",
   "execution_count": 5,
   "metadata": {},
   "outputs": [],
   "source": [
    "from keras.layers import BatchNormalization\n",
    "\n",
    "\"\"\"\n",
    "建立神經網路，並加入 BN layer\n",
    "\"\"\"\n",
    "def build_mlp(input_shape, output_units=10, num_neurons=[512, 256, 128]):\n",
    "    input_layer = keras.layers.Input(input_shape)\n",
    "    \n",
    "    for i, n_units in enumerate(num_neurons):\n",
    "        if i == 0:\n",
    "            x = keras.layers.Dense(units=n_units, \n",
    "                                   activation=\"relu\", \n",
    "                                   name=\"hidden_layer\"+str(i+1))(input_layer)\n",
    "            x = BatchNormalization()(x)\n",
    "        else:\n",
    "            x = keras.layers.Dense(units=n_units, \n",
    "                                   activation=\"relu\", \n",
    "                                   name=\"hidden_layer\"+str(i+1))(x)\n",
    "            x = BatchNormalization()(x)\n",
    "    \n",
    "    out = keras.layers.Dense(units=output_units, activation=\"softmax\", name=\"output\")(x)\n",
    "    \n",
    "    model = keras.models.Model(inputs=[input_layer], outputs=[out])\n",
    "    return model"
   ]
  },
  {
   "cell_type": "code",
   "execution_count": 6,
   "metadata": {},
   "outputs": [],
   "source": [
    "## 超參數設定\n",
    "LEARNING_RATE = 1e-3\n",
    "EPOCHS = 25\n",
    "BATCH_SIZE = 1024\n",
    "MOMENTUM = 0.95"
   ]
  },
  {
   "cell_type": "code",
   "execution_count": 7,
   "metadata": {},
   "outputs": [],
   "source": [
    "# 載入 Callbacks\n",
    "from keras.callbacks import Callback\n",
    "from sklearn.metrics import confusion_matrix\n",
    "\n",
    "# Record_fp_tp\n",
    "class Record_tp_tn(Callback):\n",
    "    \"\"\"Code Here\n",
    "    撰寫一個紀錄 ture positive 與 true negative 數量的 callbacks    \n",
    "    \"\"\"\n",
    "    def on_train_begin(self, epoch, logs = {}):\n",
    "        logs = logs or {}\n",
    "        record_items = [\"val_auc\", \"val_f1sc\", \"val_fp\", \"val_fn\", \"val_tp\", \"val_tn\"]\n",
    "        for i in record_items:\n",
    "            if i not in self.params['metrics']:\n",
    "                self.params['metrics'].append(i)\n",
    "    \n",
    "    def on_epoch_end(self, epoch, logs = {}, thres=0.5):\n",
    "        logs = logs or {}\n",
    "        y_true = self.validation_data[1].argmax(axis = 1)\n",
    "        y_pred = self.model.predict(self.validation_data[0])\n",
    "        y_pred = (y_pred[:, 1] >= thres) * 1\n",
    "        CM = confusion_matrix(y_true, y_pred)\n",
    "        logs[\"val_tp\"] =CM[1][1]\n",
    "        logs[\"val_tn\"] = CM[0][0]\n",
    "        \n",
    "rec_tptn = Record_tp_tn()\n"
   ]
  },
  {
   "cell_type": "code",
   "execution_count": 8,
   "metadata": {
    "scrolled": true
   },
   "outputs": [
    {
     "name": "stdout",
     "output_type": "stream",
     "text": [
      "_________________________________________________________________\n",
      "Layer (type)                 Output Shape              Param #   \n",
      "=================================================================\n",
      "input_1 (InputLayer)         (None, 3072)              0         \n",
      "_________________________________________________________________\n",
      "hidden_layer1 (Dense)        (None, 512)               1573376   \n",
      "_________________________________________________________________\n",
      "batch_normalization_1 (Batch (None, 512)               2048      \n",
      "_________________________________________________________________\n",
      "hidden_layer2 (Dense)        (None, 256)               131328    \n",
      "_________________________________________________________________\n",
      "batch_normalization_2 (Batch (None, 256)               1024      \n",
      "_________________________________________________________________\n",
      "hidden_layer3 (Dense)        (None, 128)               32896     \n",
      "_________________________________________________________________\n",
      "batch_normalization_3 (Batch (None, 128)               512       \n",
      "_________________________________________________________________\n",
      "output (Dense)               (None, 10)                1290      \n",
      "=================================================================\n",
      "Total params: 1,742,474\n",
      "Trainable params: 1,740,682\n",
      "Non-trainable params: 1,792\n",
      "_________________________________________________________________\n",
      "Train on 50000 samples, validate on 10000 samples\n",
      "Epoch 1/25\n",
      "50000/50000 [==============================] - 6s 118us/step - loss: 2.2391 - acc: 0.2678 - val_loss: 2.0330 - val_acc: 0.3305\n",
      "Epoch 2/25\n",
      "50000/50000 [==============================] - 3s 59us/step - loss: 1.7458 - acc: 0.3943 - val_loss: 1.8053 - val_acc: 0.3879\n",
      "Epoch 3/25\n",
      "50000/50000 [==============================] - 3s 59us/step - loss: 1.6177 - acc: 0.4344 - val_loss: 1.6815 - val_acc: 0.4114\n",
      "Epoch 4/25\n",
      "50000/50000 [==============================] - 3s 59us/step - loss: 1.5450 - acc: 0.4591 - val_loss: 1.6523 - val_acc: 0.4243\n",
      "Epoch 5/25\n",
      "50000/50000 [==============================] - 3s 57us/step - loss: 1.4906 - acc: 0.4791 - val_loss: 1.5978 - val_acc: 0.4330\n",
      "Epoch 6/25\n",
      "50000/50000 [==============================] - 3s 59us/step - loss: 1.4444 - acc: 0.4943 - val_loss: 1.5633 - val_acc: 0.4532\n",
      "Epoch 7/25\n",
      "50000/50000 [==============================] - 3s 60us/step - loss: 1.4057 - acc: 0.5091 - val_loss: 1.5504 - val_acc: 0.4584\n",
      "Epoch 8/25\n",
      "50000/50000 [==============================] - 3s 60us/step - loss: 1.3707 - acc: 0.5224 - val_loss: 1.5268 - val_acc: 0.4660\n",
      "Epoch 9/25\n",
      "50000/50000 [==============================] - 3s 60us/step - loss: 1.3387 - acc: 0.5330 - val_loss: 1.5312 - val_acc: 0.4619\n",
      "Epoch 10/25\n",
      "50000/50000 [==============================] - 3s 62us/step - loss: 1.3087 - acc: 0.5444 - val_loss: 1.5010 - val_acc: 0.4715\n",
      "Epoch 11/25\n",
      "50000/50000 [==============================] - 3s 62us/step - loss: 1.2808 - acc: 0.5534 - val_loss: 1.4955 - val_acc: 0.4776\n",
      "Epoch 12/25\n",
      "50000/50000 [==============================] - 3s 59us/step - loss: 1.2532 - acc: 0.5641 - val_loss: 1.4872 - val_acc: 0.4804\n",
      "Epoch 13/25\n",
      "50000/50000 [==============================] - 3s 57us/step - loss: 1.2278 - acc: 0.5726 - val_loss: 1.4835 - val_acc: 0.4803\n",
      "Epoch 14/25\n",
      "50000/50000 [==============================] - 3s 59us/step - loss: 1.2049 - acc: 0.5838 - val_loss: 1.4851 - val_acc: 0.4800\n",
      "Epoch 15/25\n",
      "50000/50000 [==============================] - 3s 57us/step - loss: 1.1802 - acc: 0.5922 - val_loss: 1.4866 - val_acc: 0.4793\n",
      "Epoch 16/25\n",
      "50000/50000 [==============================] - 3s 57us/step - loss: 1.1582 - acc: 0.5988 - val_loss: 1.4658 - val_acc: 0.4878\n",
      "Epoch 17/25\n",
      "50000/50000 [==============================] - 3s 58us/step - loss: 1.1329 - acc: 0.6103 - val_loss: 1.4647 - val_acc: 0.4906\n",
      "Epoch 18/25\n",
      "50000/50000 [==============================] - 3s 58us/step - loss: 1.1095 - acc: 0.6178 - val_loss: 1.4561 - val_acc: 0.4913\n",
      "Epoch 19/25\n",
      "50000/50000 [==============================] - 3s 58us/step - loss: 1.0881 - acc: 0.6269 - val_loss: 1.4566 - val_acc: 0.4930\n",
      "Epoch 20/25\n",
      "50000/50000 [==============================] - 3s 58us/step - loss: 1.0670 - acc: 0.6354 - val_loss: 1.4563 - val_acc: 0.4935\n",
      "Epoch 21/25\n",
      "50000/50000 [==============================] - 3s 58us/step - loss: 1.0436 - acc: 0.6441 - val_loss: 1.4563 - val_acc: 0.4935\n",
      "Epoch 22/25\n",
      "50000/50000 [==============================] - 3s 58us/step - loss: 1.0233 - acc: 0.6509 - val_loss: 1.4581 - val_acc: 0.4998\n",
      "Epoch 23/25\n",
      "50000/50000 [==============================] - 3s 57us/step - loss: 1.0025 - acc: 0.6586 - val_loss: 1.4783 - val_acc: 0.4899\n",
      "Epoch 24/25\n",
      "50000/50000 [==============================] - 3s 57us/step - loss: 0.9804 - acc: 0.6672 - val_loss: 1.4763 - val_acc: 0.4888\n",
      "Epoch 25/25\n",
      "50000/50000 [==============================] - 3s 58us/step - loss: 0.9593 - acc: 0.6764 - val_loss: 1.4687 - val_acc: 0.4942\n"
     ]
    }
   ],
   "source": [
    "model = build_mlp(input_shape=x_train.shape[1:])\n",
    "model.summary()\n",
    "optimizer = keras.optimizers.SGD(lr=LEARNING_RATE, nesterov=True, momentum=MOMENTUM)\n",
    "model.compile(loss=\"categorical_crossentropy\", metrics=[\"accuracy\"], optimizer=optimizer)\n",
    "\n",
    "\"\"\"Code Here\n",
    "將 callbacks 放入模型訓練流程中\n",
    "\"\"\"\n",
    "model.fit(x_train, y_train, \n",
    "          epochs=EPOCHS, \n",
    "          batch_size=BATCH_SIZE, \n",
    "          validation_data=(x_test, y_test), \n",
    "          shuffle=True,\n",
    "          callbacks=[rec_tptn]\n",
    "         )\n",
    "\n",
    "# Collect results\n",
    "train_loss = model.history.history[\"loss\"]\n",
    "valid_loss = model.history.history[\"val_loss\"]\n",
    "train_acc = model.history.history[\"acc\"]\n",
    "valid_acc = model.history.history[\"val_acc\"]\n",
    "\n",
    "\"\"\"Code Here\n",
    "將 tp/tn 從訓練完的模型中取出\n",
    "\"\"\"\n",
    "valid_tp = model.history.history['val_tp']\n",
    "valid_tn = model.history.history['val_tn']\n"
   ]
  },
  {
   "cell_type": "code",
   "execution_count": 9,
   "metadata": {},
   "outputs": [
    {
     "data": {
      "image/png": "[encoded data removed]",
      "text/plain": [
       "<Figure size 432x288 with 1 Axes>"
      ]
     },
     "metadata": {
      "needs_background": "light"
     },
     "output_type": "display_data"
    },
    {
     "data": {
      "image/png": "[encoded data removed]",
      "text/plain": [
       "<Figure size 432x288 with 1 Axes>"
      ]
     },
     "metadata": {
      "needs_background": "light"
     },
     "output_type": "display_data"
    },
    {
     "data": {
      "image/png": "[encoded data removed]",
      "text/plain": [
       "<Figure size 432x288 with 1 Axes>"
      ]
     },
     "metadata": {
      "needs_background": "light"
     },
     "output_type": "display_data"
    }
   ],
   "source": [
    "import matplotlib.pyplot as plt\n",
    "%matplotlib inline\n",
    "\n",
    "plt.plot(range(len(train_loss)), train_loss, label=\"train loss\")\n",
    "plt.plot(range(len(valid_loss)), valid_loss, label=\"valid loss\")\n",
    "plt.legend()\n",
    "plt.title(\"Loss\")\n",
    "plt.show()\n",
    "\n",
    "plt.plot(range(len(train_acc)), train_acc, label=\"train accuracy\")\n",
    "plt.plot(range(len(valid_acc)), valid_acc, label=\"valid accuracy\")\n",
    "plt.legend()\n",
    "plt.title(\"Accuracy\")\n",
    "plt.show()\n",
    "\n",
    "plt.plot(range(len(valid_tp)), valid_tp, label=\"valid tp\", color=\"navy\")\n",
    "plt.plot(range(len(valid_tn)), valid_tn, label=\"valid tn\", color=\"red\")\n",
    "plt.legend()\n",
    "plt.title(\"True positives and True Negatives\")\n",
    "plt.show()\n"
   ]
  }
 ],
 "metadata": {
  "kernelspec": {
   "display_name": "Python 3",
   "language": "python",
   "name": "python3"
  },
  "language_info": {
   "codemirror_mode": {
    "name": "ipython",
    "version": 3
   },
   "file_extension": ".py",
   "mimetype": "text/x-python",
   "name": "python",
   "nbconvert_exporter": "python",
   "pygments_lexer": "ipython3",
   "version": "3.6.7"
  }
 },
 "nbformat": 4,
 "nbformat_minor": 2
}
