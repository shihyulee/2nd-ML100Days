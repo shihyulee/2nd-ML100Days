{
 "cells": [
  {
   "cell_type": "markdown",
   "metadata": {},
   "source": [
    "## Work\n",
    "1. 試比較 save_best_only 與否的差異\n",
    "2. 請僅存入將 save_weights_only 設定為 True, 並嘗試 reset ipynb 並將模型與權重重新建回並預測 x_test"
   ]
  },
  {
   "cell_type": "code",
   "execution_count": 1,
   "metadata": {},
   "outputs": [
    {
     "name": "stderr",
     "output_type": "stream",
     "text": [
      "Using TensorFlow backend.\n"
     ]
    }
   ],
   "source": [
    "import os\n",
    "import keras\n",
    "\n",
    "# Disable GPU\n",
    "os.environ[\"CUDA_VISIBLE_DEVICES\"] = \"0\""
   ]
  },
  {
   "cell_type": "code",
   "execution_count": 2,
   "metadata": {},
   "outputs": [],
   "source": [
    "train, test = keras.datasets.cifar10.load_data()"
   ]
  },
  {
   "cell_type": "code",
   "execution_count": 3,
   "metadata": {},
   "outputs": [],
   "source": [
    "## 資料前處理\n",
    "def preproc_x(x, flatten=True):\n",
    "    x = x / 255.\n",
    "    if flatten:\n",
    "        x = x.reshape((len(x), -1))\n",
    "    return x\n",
    "\n",
    "def preproc_y(y, num_classes=10):\n",
    "    if y.shape[-1] == 1:\n",
    "        y = keras.utils.to_categorical(y, num_classes)\n",
    "    return y    "
   ]
  },
  {
   "cell_type": "code",
   "execution_count": 4,
   "metadata": {},
   "outputs": [],
   "source": [
    "x_train, y_train = train\n",
    "x_test, y_test = test\n",
    "\n",
    "# Preproc the inputs\n",
    "x_train = preproc_x(x_train)\n",
    "x_test = preproc_x(x_test)\n",
    "\n",
    "# Preprc the outputs\n",
    "y_train = preproc_y(y_train)\n",
    "y_test = preproc_y(y_test)"
   ]
  },
  {
   "cell_type": "code",
   "execution_count": 5,
   "metadata": {},
   "outputs": [],
   "source": [
    "from keras.layers import BatchNormalization\n",
    "\n",
    "\"\"\"\n",
    "建立神經網路，並加入 BN layer\n",
    "\"\"\"\n",
    "def build_mlp(input_shape, output_units=10, num_neurons=[512, 256, 128]):\n",
    "    input_layer = keras.layers.Input(input_shape)\n",
    "    \n",
    "    for i, n_units in enumerate(num_neurons):\n",
    "        if i == 0:\n",
    "            x = keras.layers.Dense(units=n_units, \n",
    "                                   activation=\"relu\", \n",
    "                                   name=\"hidden_layer\"+str(i+1))(input_layer)\n",
    "            x = BatchNormalization()(x)\n",
    "        else:\n",
    "            x = keras.layers.Dense(units=n_units, \n",
    "                                   activation=\"relu\", \n",
    "                                   name=\"hidden_layer\"+str(i+1))(x)\n",
    "            x = BatchNormalization()(x)\n",
    "    \n",
    "    out = keras.layers.Dense(units=output_units, activation=\"softmax\", name=\"output\")(x)\n",
    "    \n",
    "    model = keras.models.Model(inputs=[input_layer], outputs=[out])\n",
    "    return model"
   ]
  },
  {
   "cell_type": "code",
   "execution_count": 6,
   "metadata": {},
   "outputs": [],
   "source": [
    "## 超參數設定\n",
    "LEARNING_RATE = 1e-3\n",
    "EPOCHS = 50\n",
    "BATCH_SIZE = 1024\n",
    "MOMENTUM = 0.95"
   ]
  },
  {
   "cell_type": "code",
   "execution_count": 7,
   "metadata": {},
   "outputs": [
    {
     "name": "stdout",
     "output_type": "stream",
     "text": [
      "_________________________________________________________________\n",
      "Layer (type)                 Output Shape              Param #   \n",
      "=================================================================\n",
      "input_1 (InputLayer)         (None, 3072)              0         \n",
      "_________________________________________________________________\n",
      "hidden_layer1 (Dense)        (None, 512)               1573376   \n",
      "_________________________________________________________________\n",
      "batch_normalization_1 (Batch (None, 512)               2048      \n",
      "_________________________________________________________________\n",
      "hidden_layer2 (Dense)        (None, 256)               131328    \n",
      "_________________________________________________________________\n",
      "batch_normalization_2 (Batch (None, 256)               1024      \n",
      "_________________________________________________________________\n",
      "hidden_layer3 (Dense)        (None, 128)               32896     \n",
      "_________________________________________________________________\n",
      "batch_normalization_3 (Batch (None, 128)               512       \n",
      "_________________________________________________________________\n",
      "output (Dense)               (None, 10)                1290      \n",
      "=================================================================\n",
      "Total params: 1,742,474\n",
      "Trainable params: 1,740,682\n",
      "Non-trainable params: 1,792\n",
      "_________________________________________________________________\n",
      "Train on 50000 samples, validate on 10000 samples\n",
      "Epoch 1/50\n",
      "50000/50000 [==============================] - 6s 121us/step - loss: 2.2230 - acc: 0.2706 - val_loss: 2.1034 - val_acc: 0.3224\n",
      "Epoch 2/50\n",
      "50000/50000 [==============================] - 3s 59us/step - loss: 1.7439 - acc: 0.3945 - val_loss: 1.8056 - val_acc: 0.3754\n",
      "Epoch 3/50\n",
      "50000/50000 [==============================] - 3s 61us/step - loss: 1.6205 - acc: 0.4335 - val_loss: 1.7106 - val_acc: 0.3975\n",
      "Epoch 4/50\n",
      "50000/50000 [==============================] - 3s 61us/step - loss: 1.5459 - acc: 0.4585 - val_loss: 1.6354 - val_acc: 0.4283\n",
      "Epoch 5/50\n",
      "50000/50000 [==============================] - 3s 61us/step - loss: 1.4896 - acc: 0.4791 - val_loss: 1.5846 - val_acc: 0.4434\n",
      "Epoch 6/50\n",
      "50000/50000 [==============================] - 3s 60us/step - loss: 1.4456 - acc: 0.4948 - val_loss: 1.5709 - val_acc: 0.4475\n",
      "Epoch 7/50\n",
      "50000/50000 [==============================] - 3s 61us/step - loss: 1.4072 - acc: 0.5081 - val_loss: 1.5383 - val_acc: 0.4605\n",
      "Epoch 8/50\n",
      "50000/50000 [==============================] - 3s 60us/step - loss: 1.3711 - acc: 0.5234 - val_loss: 1.5323 - val_acc: 0.4597\n",
      "Epoch 9/50\n",
      "50000/50000 [==============================] - 3s 61us/step - loss: 1.3410 - acc: 0.5333 - val_loss: 1.5218 - val_acc: 0.4626\n",
      "Epoch 10/50\n",
      "50000/50000 [==============================] - 3s 60us/step - loss: 1.3102 - acc: 0.5433 - val_loss: 1.5066 - val_acc: 0.4676\n",
      "Epoch 11/50\n",
      "50000/50000 [==============================] - 3s 60us/step - loss: 1.2837 - acc: 0.5551 - val_loss: 1.4919 - val_acc: 0.4745\n",
      "Epoch 12/50\n",
      "50000/50000 [==============================] - 3s 60us/step - loss: 1.2557 - acc: 0.5646 - val_loss: 1.4785 - val_acc: 0.4802\n",
      "Epoch 13/50\n",
      "50000/50000 [==============================] - 3s 60us/step - loss: 1.2287 - acc: 0.5740 - val_loss: 1.4773 - val_acc: 0.4782\n",
      "Epoch 14/50\n",
      "50000/50000 [==============================] - 3s 61us/step - loss: 1.2030 - acc: 0.5845 - val_loss: 1.4593 - val_acc: 0.4859\n",
      "Epoch 15/50\n",
      "50000/50000 [==============================] - 3s 60us/step - loss: 1.1804 - acc: 0.5915 - val_loss: 1.4720 - val_acc: 0.4854\n",
      "Epoch 16/50\n",
      "50000/50000 [==============================] - 3s 60us/step - loss: 1.1572 - acc: 0.6008 - val_loss: 1.4693 - val_acc: 0.4888\n",
      "Epoch 17/50\n",
      "50000/50000 [==============================] - 3s 61us/step - loss: 1.1348 - acc: 0.6091 - val_loss: 1.4625 - val_acc: 0.4853\n",
      "Epoch 18/50\n",
      "50000/50000 [==============================] - 3s 60us/step - loss: 1.1125 - acc: 0.6167 - val_loss: 1.4609 - val_acc: 0.4930\n",
      "Epoch 19/50\n",
      "50000/50000 [==============================] - 3s 61us/step - loss: 1.0889 - acc: 0.6258 - val_loss: 1.4510 - val_acc: 0.4906\n",
      "Epoch 20/50\n",
      "50000/50000 [==============================] - 3s 60us/step - loss: 1.0682 - acc: 0.6329 - val_loss: 1.4447 - val_acc: 0.4985\n",
      "Epoch 21/50\n",
      "50000/50000 [==============================] - 3s 61us/step - loss: 1.0483 - acc: 0.6413 - val_loss: 1.4433 - val_acc: 0.4955\n",
      "Epoch 22/50\n",
      "50000/50000 [==============================] - 3s 60us/step - loss: 1.0267 - acc: 0.6514 - val_loss: 1.4424 - val_acc: 0.4995\n",
      "Epoch 23/50\n",
      "50000/50000 [==============================] - 3s 60us/step - loss: 1.0036 - acc: 0.6586 - val_loss: 1.4429 - val_acc: 0.4986\n",
      "Epoch 24/50\n",
      "50000/50000 [==============================] - 3s 61us/step - loss: 0.9833 - acc: 0.6659 - val_loss: 1.4502 - val_acc: 0.5023\n",
      "Epoch 25/50\n",
      "50000/50000 [==============================] - 3s 60us/step - loss: 0.9630 - acc: 0.6744 - val_loss: 1.4499 - val_acc: 0.5024\n",
      "Epoch 26/50\n",
      "50000/50000 [==============================] - 3s 61us/step - loss: 0.9432 - acc: 0.6805 - val_loss: 1.4559 - val_acc: 0.4982\n",
      "Epoch 27/50\n",
      "50000/50000 [==============================] - 3s 60us/step - loss: 0.9241 - acc: 0.6890 - val_loss: 1.4652 - val_acc: 0.4939\n",
      "Epoch 28/50\n",
      "50000/50000 [==============================] - 3s 61us/step - loss: 0.9038 - acc: 0.6979 - val_loss: 1.4638 - val_acc: 0.5019\n",
      "Epoch 29/50\n",
      "50000/50000 [==============================] - 3s 61us/step - loss: 0.8862 - acc: 0.7043 - val_loss: 1.4757 - val_acc: 0.4988\n",
      "Epoch 30/50\n",
      "50000/50000 [==============================] - 3s 61us/step - loss: 0.8673 - acc: 0.7135 - val_loss: 1.4833 - val_acc: 0.4952\n",
      "Epoch 31/50\n",
      "50000/50000 [==============================] - 3s 61us/step - loss: 0.8463 - acc: 0.7193 - val_loss: 1.4733 - val_acc: 0.4971\n",
      "Epoch 32/50\n",
      "50000/50000 [==============================] - 3s 65us/step - loss: 0.8260 - acc: 0.7295 - val_loss: 1.4890 - val_acc: 0.5055\n",
      "Epoch 33/50\n",
      "50000/50000 [==============================] - 3s 64us/step - loss: 0.8090 - acc: 0.7359 - val_loss: 1.5048 - val_acc: 0.4969\n",
      "Epoch 34/50\n",
      "50000/50000 [==============================] - 3s 65us/step - loss: 0.7917 - acc: 0.7406 - val_loss: 1.4941 - val_acc: 0.5063\n",
      "Epoch 35/50\n",
      "50000/50000 [==============================] - 3s 64us/step - loss: 0.7687 - acc: 0.7534 - val_loss: 1.4978 - val_acc: 0.5019\n",
      "Epoch 36/50\n",
      "50000/50000 [==============================] - 3s 63us/step - loss: 0.7498 - acc: 0.7615 - val_loss: 1.5205 - val_acc: 0.5012\n",
      "Epoch 37/50\n",
      "50000/50000 [==============================] - 3s 61us/step - loss: 0.7332 - acc: 0.7655 - val_loss: 1.5190 - val_acc: 0.5045\n",
      "Epoch 38/50\n",
      "50000/50000 [==============================] - 3s 61us/step - loss: 0.7149 - acc: 0.7750 - val_loss: 1.5410 - val_acc: 0.4944\n",
      "Epoch 39/50\n",
      "50000/50000 [==============================] - 3s 62us/step - loss: 0.6971 - acc: 0.7793 - val_loss: 1.5564 - val_acc: 0.4952\n",
      "Epoch 40/50\n",
      "50000/50000 [==============================] - 3s 64us/step - loss: 0.6770 - acc: 0.7902 - val_loss: 1.5411 - val_acc: 0.5001\n",
      "Epoch 41/50\n",
      "50000/50000 [==============================] - 3s 60us/step - loss: 0.6617 - acc: 0.7954 - val_loss: 1.5748 - val_acc: 0.4899\n",
      "Epoch 42/50\n",
      "50000/50000 [==============================] - 3s 60us/step - loss: 0.6426 - acc: 0.8022 - val_loss: 1.5542 - val_acc: 0.4999\n",
      "Epoch 43/50\n",
      "50000/50000 [==============================] - 3s 60us/step - loss: 0.6243 - acc: 0.8095 - val_loss: 1.5759 - val_acc: 0.4989\n",
      "Epoch 44/50\n",
      "50000/50000 [==============================] - 3s 61us/step - loss: 0.6083 - acc: 0.8154 - val_loss: 1.5839 - val_acc: 0.4984\n",
      "Epoch 45/50\n",
      "50000/50000 [==============================] - 3s 62us/step - loss: 0.5891 - acc: 0.8261 - val_loss: 1.6005 - val_acc: 0.5021\n",
      "Epoch 46/50\n",
      "50000/50000 [==============================] - 3s 66us/step - loss: 0.5716 - acc: 0.8313 - val_loss: 1.6050 - val_acc: 0.4967\n",
      "Epoch 47/50\n",
      "50000/50000 [==============================] - 3s 68us/step - loss: 0.5540 - acc: 0.8378 - val_loss: 1.6273 - val_acc: 0.5036\n",
      "Epoch 48/50\n",
      "50000/50000 [==============================] - 3s 69us/step - loss: 0.5383 - acc: 0.8464 - val_loss: 1.6503 - val_acc: 0.4913\n",
      "Epoch 49/50\n",
      "50000/50000 [==============================] - 3s 63us/step - loss: 0.5225 - acc: 0.8513 - val_loss: 1.6455 - val_acc: 0.4941\n"
     ]
    },
    {
     "name": "stdout",
     "output_type": "stream",
     "text": [
      "Epoch 50/50\n",
      "50000/50000 [==============================] - 3s 61us/step - loss: 0.5080 - acc: 0.8568 - val_loss: 1.6687 - val_acc: 0.4949\n",
      "10000/10000 [==============================] - 1s 144us/step\n"
     ]
    }
   ],
   "source": [
    "\"\"\"\n",
    "# 載入 Callbacks, 並將監控目標設為 validation loss, 且只存最佳參數時的模型\n",
    "\"\"\"\n",
    "from keras.callbacks import ModelCheckpoint\n",
    "\n",
    "model_ckpt = ModelCheckpoint(filepath=\"./tmp.h5\", \n",
    "                             monitor=\"val_loss\", \n",
    "                             save_best_only=True)\n",
    "\n",
    "model = build_mlp(input_shape=x_train.shape[1:])\n",
    "model.summary()\n",
    "optimizer = keras.optimizers.SGD(lr=LEARNING_RATE, nesterov=True, momentum=MOMENTUM)\n",
    "model.compile(loss=\"categorical_crossentropy\", metrics=[\"accuracy\"], optimizer=optimizer)\n",
    "\n",
    "model.fit(x_train, y_train, \n",
    "          epochs=EPOCHS, \n",
    "          batch_size=BATCH_SIZE, \n",
    "          validation_data=(x_test, y_test), \n",
    "          shuffle=True,\n",
    "          callbacks=[model_ckpt]\n",
    "         )\n",
    "\n",
    "# Collect results\n",
    "train_loss = model.history.history[\"loss\"]\n",
    "valid_loss = model.history.history[\"val_loss\"]\n",
    "train_acc = model.history.history[\"acc\"]\n",
    "valid_acc = model.history.history[\"val_acc\"]\n",
    "\n",
    "# Load back\n",
    "model = keras.models.load_model(\"./tmp.h5\")\n",
    "loss_loadback, acc_loadback = model.evaluate(x_test, y_test)"
   ]
  },
  {
   "cell_type": "code",
   "execution_count": 8,
   "metadata": {
    "scrolled": true
   },
   "outputs": [
    {
     "data": {
      "image/png": "[encoded data removed]",
      "text/plain": [
       "<Figure size 432x288 with 1 Axes>"
      ]
     },
     "metadata": {
      "needs_background": "light"
     },
     "output_type": "display_data"
    },
    {
     "data": {
      "image/png": "[encoded data removed]",
      "text/plain": [
       "<Figure size 432x288 with 1 Axes>"
      ]
     },
     "metadata": {
      "needs_background": "light"
     },
     "output_type": "display_data"
    }
   ],
   "source": [
    "import matplotlib.pyplot as plt\n",
    "%matplotlib inline\n",
    "\n",
    "plt.plot(range(len(train_loss)), train_loss, label=\"train loss\")\n",
    "plt.plot(range(len(valid_loss)), valid_loss, label=\"valid loss\")\n",
    "plt.hlines(y=loss_loadback, xmin=0, xmax=len(train_loss), colors='r', linestyles='--')\n",
    "plt.legend()\n",
    "plt.title(\"Loss\")\n",
    "plt.show()\n",
    "\n",
    "plt.plot(range(len(train_acc)), train_acc, label=\"train accuracy\")\n",
    "plt.plot(range(len(valid_acc)), valid_acc, label=\"valid accuracy\")\n",
    "plt.hlines(y=acc_loadback, xmin=0, xmax=len(train_loss), colors='r', linestyles='--')\n",
    "plt.legend()\n",
    "plt.title(\"Accuracy\")\n",
    "plt.show()"
   ]
  }
 ],
 "metadata": {
  "kernelspec": {
   "display_name": "Python 3",
   "language": "python",
   "name": "python3"
  },
  "language_info": {
   "codemirror_mode": {
    "name": "ipython",
    "version": 3
   },
   "file_extension": ".py",
   "mimetype": "text/x-python",
   "name": "python",
   "nbconvert_exporter": "python",
   "pygments_lexer": "ipython3",
   "version": "3.6.7"
  }
 },
 "nbformat": 4,
 "nbformat_minor": 2
}
